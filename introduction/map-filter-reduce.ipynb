{
 "cells": [
  {
   "cell_type": "markdown",
   "metadata": {},
   "source": [
    "\n",
    "\n",
    "## 3 main function\n",
    "    \n",
    "# Map --> Filter -->  Reduce\n",
    "    \n",
    "    #Reduce\n",
    "\n",
    "    # [a0,a1, a2, a3, a4]\n",
    "\n",
    "    #1. (a0,a1) -> (ax1)\n",
    "    #2. (ax1,a2) -> (ax2)\n",
    "    #n. (axi, an) -> (axn)\n"
   ]
  },
  {
   "cell_type": "code",
   "execution_count": 21,
   "metadata": {},
   "outputs": [
    {
     "name": "stdout",
     "output_type": "stream",
     "text": [
      "0.04930830001831055\n",
      "0.005326032638549805\n"
     ]
    }
   ],
   "source": [
    "from typing import Callable, List, TypeVar, Iterable\n",
    "import time\n",
    "#Handmade map\n",
    "\n",
    "\n",
    "T = TypeVar(\"T\")\n",
    "U = TypeVar(\"U\")\n",
    "\n",
    "def _map(fun:Callable[[T],U],xs: List[T]) -> Iterable[U]:\n",
    "    return [fun(x) for x in xs]\n",
    "\n",
    "xs: List[int] = list(range(1_000_000))\n",
    "\n",
    "#ys = _map(lambda x: str(x), xs)\n",
    "\n",
    "t0 = time.time()\n",
    "ys = _map(str, xs)\n",
    "print(time.time()-t0)\n",
    "\n",
    "t0 = time.time()\n",
    "ys2 = map(str,xs) #map return a generator that's why it's faster\n",
    "\n",
    "print(time.time()-t0)"
   ]
  },
  {
   "cell_type": "code",
   "execution_count": 22,
   "metadata": {},
   "outputs": [
    {
     "name": "stdout",
     "output_type": "stream",
     "text": [
      "0.009020805358886719\n"
     ]
    }
   ],
   "source": [
    "\n",
    "def _map(fun:Callable[[T],U],xs: List[T]) -> Iterable[U]:\n",
    "    \n",
    "        yield [fun(x) for x in xs]\n",
    "\n",
    "t0 = time.time()\n",
    "ys = _map(str, xs)\n",
    "print(time.time()-t0)"
   ]
  },
  {
   "cell_type": "code",
   "execution_count": 23,
   "metadata": {},
   "outputs": [],
   "source": [
    "def _filter(fun: Callable[[T],bool],xs: List[T]) -> Iterable[T]:\n",
    "    for x in xs:\n",
    "        if fun(x):\n",
    "            yield x\n",
    "\n",
    "\n",
    "xs: List[float] = list(range(1_000_000))\n",
    "ys = _filter(lambda x: x%2 == 0, xs)\n",
    "ys = list(ys)"
   ]
  },
  {
   "cell_type": "code",
   "execution_count": 24,
   "metadata": {},
   "outputs": [
    {
     "name": "stdout",
     "output_type": "stream",
     "text": [
      "15\n"
     ]
    }
   ],
   "source": [
    "def _reduce(fun: Callable[[T,T],T],seq: Iterable[T],start: T | None = None) -> T:\n",
    "    if start is None:\n",
    "        start, *seq  = seq\n",
    "\n",
    "    match seq:\n",
    "        case [x, *xs]:\n",
    "            res = fun(start,x)\n",
    "            return _reduce(fun, xs, res)\n",
    "        \n",
    "        case _:\n",
    "            res = start\n",
    "    \n",
    "    return res\n",
    "        \n",
    "list_ = [1,2,3,4,5]\n",
    "print(_reduce(lambda x,y: x + y, list_))\n"
   ]
  }
 ],
 "metadata": {
  "kernelspec": {
   "display_name": "basic_python",
   "language": "python",
   "name": "python3"
  },
  "language_info": {
   "codemirror_mode": {
    "name": "ipython",
    "version": 3
   },
   "file_extension": ".py",
   "mimetype": "text/x-python",
   "name": "python",
   "nbconvert_exporter": "python",
   "pygments_lexer": "ipython3",
   "version": "3.12.0"
  }
 },
 "nbformat": 4,
 "nbformat_minor": 2
}
