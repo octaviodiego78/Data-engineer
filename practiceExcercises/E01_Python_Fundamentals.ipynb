{
 "cells": [
  {
   "cell_type": "markdown",
   "id": "f7658536",
   "metadata": {},
   "source": [
    "# E01 Python Fundamentals\n",
    "\n",
    "This exam will cover basic problem solving, OOP fundamentals, and some functional programming problems. For this exam, the use of ChatGTP (or any other AI-based assistant) will **not** be allowed or the exam grade will be considered as 0.\n",
    "\n",
    "Each problem will contain some test cases so you can verify your implementation. Finally, I'll run some edge cases to see if your solution covers them, feel free to add any other test you consider important."
   ]
  },
  {
   "cell_type": "markdown",
   "id": "2282d903",
   "metadata": {},
   "source": [
    "#### Ilse Regina Flores Reyes"
   ]
  },
  {
   "cell_type": "markdown",
   "id": "b730b0d2",
   "metadata": {},
   "source": [
    "### Python Basics (30pts)"
   ]
  },
  {
   "cell_type": "code",
   "execution_count": 1,
   "id": "bd461b33",
   "metadata": {},
   "outputs": [],
   "source": [
    "from typing import List"
   ]
  },
  {
   "cell_type": "markdown",
   "id": "013a690d",
   "metadata": {},
   "source": [
    "#### 1) Fibonacci Sequence (10pts)\n",
    "The Fibonacci sequence $F$ is a sequence where each number is the sum of the two preceding ones. We'll consider that the sequence starts with $F_0 = 0$ and $F_1 = 1$.\n",
    "\n",
    "Create a function defined as `fibonacci_sequence(n: int) -> List[int]` that takes `n` as a parameter and returns a list containing the elements up to $F_n$:\n",
    "\n",
    "```\n",
    "Input: 5  \n",
    "\n",
    "Expected Output: [0, 1, 1, 2, 3, 5]\n",
    "```\n",
    "\n",
    "Assume that $0 \\leq n \\leq 10000$."
   ]
  },
  {
   "cell_type": "code",
   "execution_count": 32,
   "id": "03ddb5e0",
   "metadata": {},
   "outputs": [],
   "source": [
    "# Your code here\n",
    "from typing import List\n",
    "\n",
    "def fibonacci_sequence_not_list(n: int) -> List[int]:\n",
    "  if n < 2:\n",
    "    return n\n",
    "  \n",
    "\n",
    "  mainList = [0,1]\n",
    "  count = 1\n",
    "\n",
    "  while count < n:\n",
    "    mainList.append(sum(mainList[-2:]))\n",
    "    count += 1\n",
    "\n",
    "  return mainList[-1]\n",
    "  \n",
    "    "
   ]
  },
  {
   "cell_type": "code",
   "execution_count": 33,
   "id": "d364ef6f",
   "metadata": {},
   "outputs": [
    {
     "data": {
      "text/plain": [
       "55"
      ]
     },
     "execution_count": 33,
     "metadata": {},
     "output_type": "execute_result"
    }
   ],
   "source": [
    "fibonacci_sequence_not_list(10)"
   ]
  },
  {
   "cell_type": "code",
   "execution_count": 21,
   "id": "fdcda1c9",
   "metadata": {},
   "outputs": [],
   "source": [
    "# Your code here\n",
    "from typing import List\n",
    "\n",
    "def fibonacci_sequence(n: int) -> List[int]:\n",
    "  if n == 0:\n",
    "    return [0]\n",
    "  \n",
    "  if n == 1:\n",
    "    return [0,1]\n",
    "  \n",
    "  mainList = [0,1]\n",
    "  count = 1\n",
    "\n",
    "  while count < n:\n",
    "    print(mainList)\n",
    "    mainList.append(sum(mainList[-2:]))\n",
    "    count += 1\n",
    "\n",
    "  return mainList\n",
    "  \n",
    "    "
   ]
  },
  {
   "cell_type": "code",
   "execution_count": 22,
   "id": "8ade90d9",
   "metadata": {},
   "outputs": [
    {
     "name": "stdout",
     "output_type": "stream",
     "text": [
      "[0, 1]\n",
      "[0, 1, 1]\n",
      "[0, 1, 1, 2]\n",
      "[0, 1, 1, 2, 3]\n",
      "[0, 1, 1, 2, 3, 5]\n",
      "[0, 1, 1, 2, 3, 5, 8]\n",
      "[0, 1, 1, 2, 3, 5, 8, 13]\n",
      "[0, 1, 1, 2, 3, 5, 8, 13, 21]\n",
      "[0, 1, 1, 2, 3, 5, 8, 13, 21, 34]\n",
      "[0, 1, 1, 2, 3, 5, 8, 13, 21, 34, 55]\n"
     ]
    }
   ],
   "source": [
    "print(fibonacci_sequence(10))"
   ]
  },
  {
   "cell_type": "code",
   "execution_count": 25,
   "id": "54b18d5c",
   "metadata": {},
   "outputs": [
    {
     "name": "stdout",
     "output_type": "stream",
     "text": [
      "[0, 1]\n",
      "[0, 1, 1]\n",
      "[0, 1, 1, 2]\n",
      "[0, 1, 1, 2, 3]\n",
      "[0, 1, 1, 2, 3, 5]\n",
      "[0, 1, 1, 2, 3, 5, 8]\n",
      "[0, 1, 1, 2, 3, 5, 8, 13]\n",
      "[0, 1, 1, 2, 3, 5, 8, 13, 21]\n",
      "[0, 1, 1, 2, 3, 5, 8, 13, 21, 34]\n",
      "Tests passed!\n"
     ]
    }
   ],
   "source": [
    "# TEST CASES - DO NOT MODIFY, ONLY RUN.\n",
    "\n",
    "assert fibonacci_sequence(0) == [0]\n",
    "assert fibonacci_sequence(1) == [0, 1]\n",
    "assert fibonacci_sequence(10) == [0, 1, 1, 2, 3, 5, 8, 13, 21, 34, 55]\n",
    "print(\"Tests passed!\")"
   ]
  },
  {
   "cell_type": "code",
   "execution_count": 34,
   "id": "3fdca12e",
   "metadata": {},
   "outputs": [],
   "source": [
    "def fibonacci_recursive(n):\n",
    "    if n < 2:\n",
    "        return n\n",
    "    else:\n",
    "        return fibonacci_recursive(n-1) + fibonacci_recursive(n-2)"
   ]
  },
  {
   "cell_type": "code",
   "execution_count": 35,
   "id": "296dbda2",
   "metadata": {},
   "outputs": [
    {
     "data": {
      "text/plain": [
       "55"
      ]
     },
     "execution_count": 35,
     "metadata": {},
     "output_type": "execute_result"
    }
   ],
   "source": [
    "fibonacci_recursive(10)"
   ]
  },
  {
   "cell_type": "markdown",
   "id": "adcd97e1",
   "metadata": {},
   "source": [
    "#### 2) Count the number of repeated characters (10pts)\n",
    "\n",
    "Write a function defined as `num_repeats(s: str) -> int` that will return the count of distinct *case-insensitive* alphabetic characters and numeric digits that occur more than once in the input string. The input string can be assumed to contain only alphabets (both uppercase and lowercase) and numeric digits.\n",
    "\n",
    "```\n",
    "Input: abcd\n",
    "\n",
    "Output: 0\n",
    "\n",
    "Notes: No duplicates\n",
    "```\n",
    "\n",
    "```\n",
    "Input: abcaa\n",
    "\n",
    "Output: 1\n",
    "\n",
    "Notes: a appears 3 times in the string\n",
    "```\n",
    "\n",
    "```\n",
    "Input: AaBb\n",
    "\n",
    "Output: 2\n",
    "\n",
    "Notes: both a and b are repeated\n",
    "```\n",
    "\n"
   ]
  },
  {
   "cell_type": "code",
   "execution_count": 47,
   "id": "e1e7fa18",
   "metadata": {},
   "outputs": [],
   "source": [
    "# Your code here\n",
    "def num_repeats(s: str) -> int:\n",
    "\n",
    "    return len(s.lower()) - len(set(s.lower()))\n"
   ]
  },
  {
   "cell_type": "code",
   "execution_count": 48,
   "id": "0ed101e9",
   "metadata": {},
   "outputs": [],
   "source": [
    "# TEST CASES - DO NOT MODIFY, ONLY RUN.\n",
    "\n",
    "assert num_repeats(\"abcde\") == 0\n",
    "assert num_repeats(\"aabbcde\") == 2\n",
    "assert num_repeats(\"aA11\") == 2\n",
    "assert num_repeats(\"ABBA\") == 2"
   ]
  },
  {
   "cell_type": "markdown",
   "id": "b1c7dbd5",
   "metadata": {},
   "source": [
    "#### 3) Unique number (10pts)\n",
    "\n",
    "Write a function defined as `unique_num(nums: List[float]) -> float`. All numbers in the list are equal except for one. Try to find the unique value.\n",
    "\n",
    "```\n",
    "Input: [1, 1, 1, 2, 1, 1, 1]\n",
    "\n",
    "Output: 2\n",
    "\n",
    "Notes: 2 is the unique number\n",
    "```\n"
   ]
  },
  {
   "cell_type": "code",
   "execution_count": 58,
   "id": "e3b4eee7",
   "metadata": {},
   "outputs": [
    {
     "data": {
      "text/plain": [
       "1"
      ]
     },
     "execution_count": 58,
     "metadata": {},
     "output_type": "execute_result"
    }
   ],
   "source": [
    "l = [1,1,2,1,1]\n",
    "\n",
    "list(set(l))[0]\n",
    "\n"
   ]
  },
  {
   "cell_type": "code",
   "execution_count": 68,
   "id": "ae034591",
   "metadata": {},
   "outputs": [],
   "source": [
    "# Your code here\n",
    "\n",
    "def unique_num(nums: List[float]) -> float:\n",
    "    \n",
    "    uniques = list(set(nums))\n",
    "    \n",
    "    if len([i for i in nums if i == uniques[0]]) > 1:\n",
    "        return uniques[1]\n",
    "    \n",
    "    else:\n",
    "        return uniques[0]\n",
    "    "
   ]
  },
  {
   "cell_type": "code",
   "execution_count": 69,
   "id": "18566d3b",
   "metadata": {},
   "outputs": [],
   "source": [
    "# TEST CASES - DO NOT MODIFY, ONLY RUN.\n",
    "\n",
    "assert unique_num([1, 1, 1, 2, 1, 1, 1]) == 2\n",
    "assert unique_num([1, 2, 1]) == 2\n",
    "assert unique_num([1, 1, 1, 0.5]) == 0.5"
   ]
  },
  {
   "cell_type": "markdown",
   "id": "039f52c6",
   "metadata": {},
   "source": [
    "### Object-Oriented Programming (40pts)"
   ]
  },
  {
   "cell_type": "markdown",
   "id": "00ee615b",
   "metadata": {},
   "source": [
    "#### 1) Spend it up (20pts)\n",
    "\n",
    "Let's start defining our financial domain. The idea is to model a client that owns a debit card and will make purchases, deposits, or transfer to another card.\n",
    "\n",
    "##### Card:\n",
    "> Properties:\n",
    "> - `balance` : float\n",
    "\n",
    "> Methods:\n",
    "> - `deposit(amount: float)` -> deposit to your account, no return\n",
    "> - `withdraw(amount: float)` -> withdraw cash, should throw a ValueError if the operation is not possible.\n",
    "> - `purchase(amount: float)` -> attempt to buy something, should throw a ValueError if the operation is not possible.\n",
    "> - `transfer(amount: float, other: 'Card')` -> transfer money from your account to another, should throw a ValueError if the operation is not possible.\n",
    "\n",
    "##### Person:\n",
    "> Properties:\n",
    "> - `first_name` : str\n",
    "> - `last_name` : str\n",
    "> - `age` : int\n",
    "> - `card` : default = None | DebitCard\n",
    "\n",
    "> Methods:\n",
    "> - `add_debit_card(card: DebitCard)`: Sets the debit_card property\n",
    "> - `purchase(price: float) -> str`: Make a purchase, returns a string `\"SUCCESSFULLY SPENT $x.\"` or `\"INSUFFICIENT AMOUNTS.\"` if the operation was not possible.\n",
    "> - `transfer(amount: float, person: 'Person') -> str`: Transfer money to another person, returns a string either:\n",
    ">    + `\"<last_name>, <first_name> DOES NOT HAVE A CARD.\"` (if the other person does not have a card),  \n",
    ">    + `\"SUCCESSFULLY TRANSFERED <amount> to <last_name>, <first_name>.\"` (if the transfer was successful)\n",
    ">    + `\"INSUFFICIENT AMOUNTS.\"` (if the card does not have sufficient funds).\n",
    "\n",
    "\n"
   ]
  },
  {
   "cell_type": "code",
   "execution_count": 16,
   "id": "d60acac5",
   "metadata": {},
   "outputs": [],
   "source": [
    "class Person():\n",
    "    def __init__(self, first_name:str, last_name:str, age:int, card=None):\n",
    "        self.first_name = first_name\n",
    "        self.last_name =  last_name\n",
    "        self.age = age\n",
    "        self.card = card\n",
    "\n",
    "    def add_card(self, card:'Card'):\n",
    "        self.card = card\n",
    "\n",
    "    def purchase(self,price:float):\n",
    "        if self.card == None:\n",
    "            return f\"NO CARD AVAILABLE.\"\n",
    "        \n",
    "        if self.card.balance > price:\n",
    "            self.card.balance -= price\n",
    "            return f'SUCCESSFULLY SPENT {price}.'\n",
    "        else:\n",
    "            return 'INSUFFICIENT AMOUNTS.'\n",
    "\n",
    "    def transfer(self,amount:float, person:'Person'):\n",
    "        if person.card == None:\n",
    "            return f\"{person.last_name}, {person.first_name} DOES NOT HAVE A CARD.\"\n",
    "        else:\n",
    "            if self.card.balance > amount:\n",
    "                self.card.balance -= amount\n",
    "                person.card.balance += amount\n",
    "                return f\"SUCCESSFULLY TRANSFERED {amount} to {person.last_name}, {person.first_name}.\"\n",
    "            else:\n",
    "                return \"INSUFFICIENT AMOUNTS.\""
   ]
  },
  {
   "cell_type": "code",
   "execution_count": 17,
   "id": "71cac12a",
   "metadata": {},
   "outputs": [],
   "source": [
    "# Your code here\n",
    "from dataclasses import dataclass\n",
    "\n",
    "class Card():\n",
    "    def __init__(self,balance:float):\n",
    "        self.balance = balance\n",
    "\n",
    "    def deposit(self,amount:float):\n",
    "        self.balance += amount\n",
    "    \n",
    "    def withdraw(self,amount:float):\n",
    "        \n",
    "        if amount < self.balance:\n",
    "            self.balance -= amount     \n",
    "        else:\n",
    "            raise ValueError\n",
    "        \n",
    "    def purchase(self, amount:float):\n",
    "\n",
    "        if amount < self.balance:\n",
    "            self.balance -= amount     \n",
    "        else:\n",
    "            raise ValueError\n",
    "\n",
    "    def transfer(self, amount:float, other:'Card'):\n",
    "\n",
    "        if amount < self.balance:\n",
    "            self.balance -= amount  \n",
    "            other.balance += amount   \n",
    "        else:\n",
    "            raise ValueError\n",
    "\n"
   ]
  },
  {
   "cell_type": "code",
   "execution_count": 18,
   "id": "a9e76aaa",
   "metadata": {},
   "outputs": [
    {
     "name": "stdout",
     "output_type": "stream",
     "text": [
      "Tests passed!\n"
     ]
    }
   ],
   "source": [
    "# TEST CASES - DO NOT MODIFY, ONLY RUN.\n",
    "\n",
    "# Creating a person object\n",
    "person_1 = Person(first_name=\"LUIS\", last_name=\"GOMEZ\", age=24)\n",
    "\n",
    "# Attempting to purchase without a card\n",
    "assert person_1.purchase(1000) == \"NO CARD AVAILABLE.\"\n",
    "\n",
    "# Adding a card\n",
    "person_1.add_card(Card(balance=5000))\n",
    "assert person_1.purchase(2000) == 'SUCCESSFULLY SPENT 2000.'\n",
    "\n",
    "# Exceeding the balance\n",
    "assert person_1.purchase(10_000) == 'INSUFFICIENT AMOUNTS.'\n",
    "\n",
    "# Making a deposit\n",
    "person_1.card.deposit(10_000)\n",
    "\n",
    "# Purchasing again\n",
    "assert person_1.purchase(10_000) == 'SUCCESSFULLY SPENT 10000.'\n",
    "\n",
    "# Creating another person object\n",
    "person_2 = Person(first_name=\"FELIPE\", last_name=\"ESTRADA\", age=24)\n",
    "\n",
    "# Attempting to transfer to someone without a card\n",
    "assert person_1.transfer(10_000, person_2) == 'ESTRADA, FELIPE DOES NOT HAVE A CARD.'\n",
    "\n",
    "# Adding a card to person_2\n",
    "person_2.add_card(Card(balance=1000))\n",
    "\n",
    "# Attempting to transfer too much\n",
    "assert person_1.transfer(10_000, person_2) == 'INSUFFICIENT AMOUNTS.'\n",
    "\n",
    "# Transfering a reasonable amount\n",
    "assert person_1.transfer(1_000, person_2) == 'SUCCESSFULLY TRANSFERED 1000 to ESTRADA, FELIPE.'\n",
    "\n",
    "# Asserting balances\n",
    "assert person_1.card.balance == 2000\n",
    "assert person_2.card.balance == 2000\n",
    "\n",
    "print(\"Tests passed!\")"
   ]
  },
  {
   "cell_type": "markdown",
   "id": "b32cc984",
   "metadata": {},
   "source": [
    "#### 2) Classes from data (20pts)\n",
    "\n",
    "Consider you fetch some users api and you get the following json response:\n",
    "\n",
    "```\n",
    "{\n",
    "  \"_id\": 1,\n",
    "  \"name\": \"Leanne Graham\",\n",
    "  \"username\": \"Bret\",\n",
    "  \"email\": \"Sincere@april.biz\",\n",
    "  \"address\": {\n",
    "    \"street\": \"Kulas Light\",\n",
    "    \"suite\": \"Apt. 556\",\n",
    "    \"city\": \"Gwenborough\",\n",
    "    \"zipcode\": \"92998-3874\",\n",
    "    \"geo\": {\n",
    "      \"lat\": \"-37.3159\",\n",
    "      \"lng\": \"81.1496\"\n",
    "    }\n",
    "  },\n",
    "  \"phone\": \"1-770-736-8031 x56442\",\n",
    "  \"website\": \"hildegard.org\",\n",
    "  \"company\": {\n",
    "    \"name\": \"Romaguera-Crona\",\n",
    "    \"catch_phrase\": \"Multi-layered client-server neural-net\",\n",
    "    \"bs\": \"harness real-time e-markets\"\n",
    "  }\n",
    "}\n",
    "```\n",
    "\n",
    "Abstract the response into their required classes and properties to attach the information of this api, since these are dataclasses, they will not have any methods, only properties.\n",
    "\n",
    "Hint, make sure you create the following classes: `User`, `Address`, `Geo`, `Company`."
   ]
  },
  {
   "cell_type": "code",
   "execution_count": 5,
   "id": "7462a858",
   "metadata": {},
   "outputs": [],
   "source": [
    "# Your code here\n",
    "\n",
    "class Geo():\n",
    "    def __init__(self,lat:str,lng:str):\n",
    "        self.lat = lat\n",
    "        self.lng = lng\n",
    "\n",
    "    \n",
    "class Address():\n",
    "    def __init__(self, street:str, suite:str, city:str, zipcode:str, geo:'Geo'):\n",
    "        self.street = street\n",
    "        self.suite = suite\n",
    "        self.city = city\n",
    "        self.zipcode = zipcode\n",
    "        self.geo = geo\n",
    "\n",
    "        \n",
    "class Company:\n",
    "    def __init__(self, name:str, catch_phrase:str, bs:str):\n",
    "        self.name = name\n",
    "        self.catch_phrase = catch_phrase\n",
    "        self.bs = bs\n",
    "        \n",
    "class User:\n",
    "    def __init__(self, _id:int, name:str, username:str, email:str, phone:str, website:str, address:'Address', company:'Company'):\n",
    "        self._id = _id\n",
    "        self.name = name\n",
    "        self.username = username\n",
    "        self.email = email\n",
    "        self.address = address\n",
    "        self.phone = phone\n",
    "        self.website = website\n",
    "        self.company = company\n",
    "        "
   ]
  },
  {
   "cell_type": "code",
   "execution_count": 6,
   "id": "2dd8857b",
   "metadata": {},
   "outputs": [
    {
     "name": "stdout",
     "output_type": "stream",
     "text": [
      "Tests passed!\n"
     ]
    }
   ],
   "source": [
    "# TEST CASES - DO NOT MODIFY, ONLY RUN.\n",
    "\n",
    "# Creating company obj\n",
    "comp = Company(name=\"Romaguera-Crona\",\n",
    "               catch_phrase=\"Multi-layered client-server neural-net\",\n",
    "               bs=\"harness real-time e-markets\")\n",
    "\n",
    "# Creating geolocation obj\n",
    "geo = Geo(lat=\"-37.3159\", lng=\"81.1496\")\n",
    "\n",
    "# Creating address obj\n",
    "address = Address(street=\"Kulas Light\", suite=\"Apt. 556\", city=\"Gwenborough\",\n",
    "                  zipcode=\"92998-3874\", geo=geo)\n",
    "\n",
    "# Creating user obj\n",
    "user = User(_id=1, name=\"Leanne Graham\", username=\"Bret\", email=\"Sincere@april.biz\",\n",
    "            address=address, phone=\"1-770-736-8031 x56442\", website=\"hildegard.org\",\n",
    "            company=comp)\n",
    "\n",
    "assert user._id == 1\n",
    "assert user.company.name == \"Romaguera-Crona\"\n",
    "assert user.address.geo.lng == \"81.1496\"\n",
    "\n",
    "print(\"Tests passed!\")"
   ]
  },
  {
   "cell_type": "markdown",
   "id": "3db2362a",
   "metadata": {},
   "source": [
    "### Functional Programming (30pts)"
   ]
  },
  {
   "cell_type": "markdown",
   "id": "6c3baf97",
   "metadata": {},
   "source": [
    "#### 1) Mapping (10pts)\n",
    "\n",
    "Considering that you previously defined the `User` class including all subclasses needed to create a user object, now it's time to apply functional programming to transform a list of dictionaries into `User` objects!\n",
    "\n",
    "Let's suppose that the users api returns a list of users instead of a single one.\n",
    "\n",
    "```\n",
    "[\n",
    "  {\n",
    "    \"id\": 1,\n",
    "    \"name\": \"Leanne Graham\",\n",
    "    \"username\": \"Bret\",\n",
    "    \"email\": \"Sincere@april.biz\",\n",
    "    \"address\": {\n",
    "      \"street\": \"Kulas Light\",\n",
    "      \"suite\": \"Apt. 556\",\n",
    "      \"city\": \"Gwenborough\",\n",
    "      \"zipcode\": \"92998-3874\",\n",
    "      \"geo\": {\n",
    "        \"lat\": \"-37.3159\",\n",
    "        \"lng\": \"81.1496\"\n",
    "      }\n",
    "    },\n",
    "    \"phone\": \"1-770-736-8031 x56442\",\n",
    "    \"website\": \"hildegard.org\",\n",
    "    \"company\": {\n",
    "      \"name\": \"Romaguera-Crona\",\n",
    "      \"catchPhrase\": \"Multi-layered client-server neural-net\",\n",
    "      \"bs\": \"harness real-time e-markets\"\n",
    "    }\n",
    "  },\n",
    "  {\n",
    "    \"id\": 2,\n",
    "    \"name\": \"Ervin Howell\",\n",
    "    \"username\": \"Antonette\",\n",
    "    \"email\": \"Shanna@melissa.tv\",\n",
    "    \"address\": {\n",
    "      \"street\": \"Victor Plains\",\n",
    "      \"suite\": \"Suite 879\",\n",
    "      \"city\": \"Wisokyburgh\",\n",
    "      \"zipcode\": \"90566-7771\",\n",
    "      \"geo\": {\n",
    "        \"lat\": \"-43.9509\",\n",
    "        \"lng\": \"-34.4618\"\n",
    "      }\n",
    "    },\n",
    "    \"phone\": \"010-692-6593 x09125\",\n",
    "    \"website\": \"anastasia.net\",\n",
    "    \"company\": {\n",
    "      \"name\": \"Deckow-Crist\",\n",
    "      \"catchPhrase\": \"Proactive didactic contingency\",\n",
    "      \"bs\": \"synergize scalable supply-chains\"\n",
    "    }\n",
    "  },\n",
    "  ...\n",
    "]\n",
    "```\n",
    "\n",
    "Transform this list of dicts into instances of `User` using `map` and store it in a variable named `user_data`. You can create any helper function and then apply it to a map method.\n"
   ]
  },
  {
   "cell_type": "code",
   "execution_count": 2,
   "id": "fb151d68",
   "metadata": {},
   "outputs": [],
   "source": [
    "data = [\n",
    "  {\n",
    "    \"_id\": 1,\n",
    "    \"name\": \"Leanne Graham\",\n",
    "    \"username\": \"Bret\",\n",
    "    \"email\": \"Sincere@april.biz\",\n",
    "    \"address\": {\n",
    "      \"street\": \"Kulas Light\",\n",
    "      \"suite\": \"Apt. 556\",\n",
    "      \"city\": \"Gwenborough\",\n",
    "      \"zipcode\": \"92998-3874\",\n",
    "      \"geo\": {\n",
    "        \"lat\": \"-37.3159\",\n",
    "        \"lng\": \"81.1496\"\n",
    "      }\n",
    "    },\n",
    "    \"phone\": \"1-770-736-8031 x56442\",\n",
    "    \"website\": \"hildegard.org\",\n",
    "    \"company\": {\n",
    "      \"name\": \"Romaguera-Crona\",\n",
    "      \"catch_phrase\": \"Multi-layered client-server neural-net\",\n",
    "      \"bs\": \"harness real-time e-markets\"\n",
    "    }\n",
    "  },\n",
    "  {\n",
    "    \"_id\": 2,\n",
    "    \"name\": \"Ervin Howell\",\n",
    "    \"username\": \"Antonette\",\n",
    "    \"email\": \"Shanna@melissa.tv\",\n",
    "    \"address\": {\n",
    "      \"street\": \"Victor Plains\",\n",
    "      \"suite\": \"Suite 879\",\n",
    "      \"city\": \"Wisokyburgh\",\n",
    "      \"zipcode\": \"90566-7771\",\n",
    "      \"geo\": {\n",
    "        \"lat\": \"-43.9509\",\n",
    "        \"lng\": \"-34.4618\"\n",
    "      }\n",
    "    },\n",
    "    \"phone\": \"010-692-6593 x09125\",\n",
    "    \"website\": \"anastasia.net\",\n",
    "    \"company\": {\n",
    "      \"name\": \"Deckow-Crist\",\n",
    "      \"catch_phrase\": \"Proactive didactic contingency\",\n",
    "      \"bs\": \"synergize scalable supply-chains\"\n",
    "    }\n",
    "  },\n",
    "  {\n",
    "    \"_id\": 3,\n",
    "    \"name\": \"Clementine Bauch\",\n",
    "    \"username\": \"Samantha\",\n",
    "    \"email\": \"Nathan@yesenia.net\",\n",
    "    \"address\": {\n",
    "      \"street\": \"Douglas Extension\",\n",
    "      \"suite\": \"Suite 847\",\n",
    "      \"city\": \"McKenziehaven\",\n",
    "      \"zipcode\": \"59590-4157\",\n",
    "      \"geo\": {\n",
    "        \"lat\": \"-68.6102\",\n",
    "        \"lng\": \"-47.0653\"\n",
    "      }\n",
    "    },\n",
    "    \"phone\": \"1-463-123-4447\",\n",
    "    \"website\": \"ramiro.info\",\n",
    "    \"company\": {\n",
    "      \"name\": \"Romaguera-Jacobson\",\n",
    "      \"catch_phrase\": \"Face to face bifurcated interface\",\n",
    "      \"bs\": \"e-enable strategic applications\"\n",
    "    }\n",
    "  },\n",
    "  {\n",
    "    \"_id\": 4,\n",
    "    \"name\": \"Patricia Lebsack\",\n",
    "    \"username\": \"Karianne\",\n",
    "    \"email\": \"Julianne.OConner@kory.org\",\n",
    "    \"address\": {\n",
    "      \"street\": \"Hoeger Mall\",\n",
    "      \"suite\": \"Apt. 692\",\n",
    "      \"city\": \"South Elvis\",\n",
    "      \"zipcode\": \"53919-4257\",\n",
    "      \"geo\": {\n",
    "        \"lat\": \"29.4572\",\n",
    "        \"lng\": \"-164.2990\"\n",
    "      }\n",
    "    },\n",
    "    \"phone\": \"493-170-9623 x156\",\n",
    "    \"website\": \"kale.biz\",\n",
    "    \"company\": {\n",
    "      \"name\": \"Robel-Corkery\",\n",
    "      \"catch_phrase\": \"Multi-tiered zero tolerance productivity\",\n",
    "      \"bs\": \"transition cutting-edge web services\"\n",
    "    }\n",
    "  },\n",
    "  {\n",
    "    \"_id\": 5,\n",
    "    \"name\": \"Chelsey Dietrich\",\n",
    "    \"username\": \"Kamren\",\n",
    "    \"email\": \"Lucio_Hettinger@annie.ca\",\n",
    "    \"address\": {\n",
    "      \"street\": \"Skiles Walks\",\n",
    "      \"suite\": \"Suite 351\",\n",
    "      \"city\": \"Roscoeview\",\n",
    "      \"zipcode\": \"33263\",\n",
    "      \"geo\": {\n",
    "        \"lat\": \"-31.8129\",\n",
    "        \"lng\": \"62.5342\"\n",
    "      }\n",
    "    },\n",
    "    \"phone\": \"(254)954-1289\",\n",
    "    \"website\": \"demarco.info\",\n",
    "    \"company\": {\n",
    "      \"name\": \"Keebler LLC\",\n",
    "      \"catch_phrase\": \"User-centric fault-tolerant solution\",\n",
    "      \"bs\": \"revolutionize end-to-end systems\"\n",
    "    }\n",
    "  },\n",
    "  {\n",
    "    \"_id\": 6,\n",
    "    \"name\": \"Mrs. Dennis Schulist\",\n",
    "    \"username\": \"Leopoldo_Corkery\",\n",
    "    \"email\": \"Karley_Dach@jasper.info\",\n",
    "    \"address\": {\n",
    "      \"street\": \"Norberto Crossing\",\n",
    "      \"suite\": \"Apt. 950\",\n",
    "      \"city\": \"South Christy\",\n",
    "      \"zipcode\": \"23505-1337\",\n",
    "      \"geo\": {\n",
    "        \"lat\": \"-71.4197\",\n",
    "        \"lng\": \"71.7478\"\n",
    "      }\n",
    "    },\n",
    "    \"phone\": \"1-477-935-8478 x6430\",\n",
    "    \"website\": \"ola.org\",\n",
    "    \"company\": {\n",
    "      \"name\": \"Considine-Lockman\",\n",
    "      \"catch_phrase\": \"Synchronised bottom-line interface\",\n",
    "      \"bs\": \"e-enable innovative applications\"\n",
    "    }\n",
    "  },\n",
    "  {\n",
    "    \"_id\": 7,\n",
    "    \"name\": \"Kurtis Weissnat\",\n",
    "    \"username\": \"Elwyn.Skiles\",\n",
    "    \"email\": \"Telly.Hoeger@billy.biz\",\n",
    "    \"address\": {\n",
    "      \"street\": \"Rex Trail\",\n",
    "      \"suite\": \"Suite 280\",\n",
    "      \"city\": \"Howemouth\",\n",
    "      \"zipcode\": \"58804-1099\",\n",
    "      \"geo\": {\n",
    "        \"lat\": \"24.8918\",\n",
    "        \"lng\": \"21.8984\"\n",
    "      }\n",
    "    },\n",
    "    \"phone\": \"210.067.6132\",\n",
    "    \"website\": \"elvis.io\",\n",
    "    \"company\": {\n",
    "      \"name\": \"Johns Group\",\n",
    "      \"catch_phrase\": \"Configurable multimedia task-force\",\n",
    "      \"bs\": \"generate enterprise e-tailers\"\n",
    "    }\n",
    "  },\n",
    "  {\n",
    "    \"_id\": 8,\n",
    "    \"name\": \"Nicholas Runolfsdottir V\",\n",
    "    \"username\": \"Maxime_Nienow\",\n",
    "    \"email\": \"Sherwood@rosamond.me\",\n",
    "    \"address\": {\n",
    "      \"street\": \"Ellsworth Summit\",\n",
    "      \"suite\": \"Suite 729\",\n",
    "      \"city\": \"Aliyaview\",\n",
    "      \"zipcode\": \"45169\",\n",
    "      \"geo\": {\n",
    "        \"lat\": \"-14.3990\",\n",
    "        \"lng\": \"-120.7677\"\n",
    "      }\n",
    "    },\n",
    "    \"phone\": \"586.493.6943 x140\",\n",
    "    \"website\": \"jacynthe.com\",\n",
    "    \"company\": {\n",
    "      \"name\": \"Abernathy Group\",\n",
    "      \"catch_phrase\": \"Implemented secondary concept\",\n",
    "      \"bs\": \"e-enable extensible e-tailers\"\n",
    "    }\n",
    "  },\n",
    "  {\n",
    "    \"_id\": 9,\n",
    "    \"name\": \"Glenna Reichert\",\n",
    "    \"username\": \"Delphine\",\n",
    "    \"email\": \"Chaim_McDermott@dana.io\",\n",
    "    \"address\": {\n",
    "      \"street\": \"Dayna Park\",\n",
    "      \"suite\": \"Suite 449\",\n",
    "      \"city\": \"Bartholomebury\",\n",
    "      \"zipcode\": \"76495-3109\",\n",
    "      \"geo\": {\n",
    "        \"lat\": \"24.6463\",\n",
    "        \"lng\": \"-168.8889\"\n",
    "      }\n",
    "    },\n",
    "    \"phone\": \"(775)976-6794 x41206\",\n",
    "    \"website\": \"conrad.com\",\n",
    "    \"company\": {\n",
    "      \"name\": \"Yost and Sons\",\n",
    "      \"catch_phrase\": \"Switchable contextually-based project\",\n",
    "      \"bs\": \"aggregate real-time technologies\"\n",
    "    }\n",
    "  },\n",
    "  {\n",
    "    \"_id\": 10,\n",
    "    \"name\": \"Clementina DuBuque\",\n",
    "    \"username\": \"Moriah.Stanton\",\n",
    "    \"email\": \"Rey.Padberg@karina.biz\",\n",
    "    \"address\": {\n",
    "      \"street\": \"Kattie Turnpike\",\n",
    "      \"suite\": \"Suite 198\",\n",
    "      \"city\": \"Lebsackbury\",\n",
    "      \"zipcode\": \"31428-2261\",\n",
    "      \"geo\": {\n",
    "        \"lat\": \"-38.2386\",\n",
    "        \"lng\": \"57.2232\"\n",
    "      }\n",
    "    },\n",
    "    \"phone\": \"024-648-3804\",\n",
    "    \"website\": \"ambrose.net\",\n",
    "    \"company\": {\n",
    "      \"name\": \"Hoeger LLC\",\n",
    "      \"catch_phrase\": \"Centralized empowering task-force\",\n",
    "      \"bs\": \"target end-to-end models\"\n",
    "    }\n",
    "  }\n",
    "]"
   ]
  },
  {
   "cell_type": "code",
   "execution_count": 4,
   "id": "0be3585b",
   "metadata": {},
   "outputs": [],
   "source": [
    "class Geo():\n",
    "    def __init__(self,lat:str,lng:str):\n",
    "        self.lat = lat\n",
    "        self.lng = lng\n",
    "\n",
    "    \n",
    "class Address():\n",
    "    def __init__(self, street:str, suite:str, city:str, zipcode:str, geo:'Geo'):\n",
    "        self.street = street\n",
    "        self.suite = suite\n",
    "        self.city = city\n",
    "        self.zipcode = zipcode\n",
    "        self.geo = geo\n",
    "\n",
    "        \n",
    "class Company:\n",
    "    def __init__(self, name:str, catch_phrase:str, bs:str):\n",
    "        self.name = name\n",
    "        self.catch_phrase = catch_phrase\n",
    "        self.bs = bs\n",
    "        \n",
    "class User:\n",
    "    def __init__(self, _id:int, name:str, username:str, email:str, phone:str, website:str, address:'Address', company:'Company'):\n",
    "        self._id = _id\n",
    "        self.name = name\n",
    "        self.username = username\n",
    "        self.email = email\n",
    "        self.address = address\n",
    "        self.phone = phone\n",
    "        self.website = website\n",
    "        self.company = company"
   ]
  },
  {
   "cell_type": "code",
   "execution_count": 5,
   "id": "ddb9d0e8",
   "metadata": {},
   "outputs": [],
   "source": [
    "# Your code here\n",
    "def make_user(dict):\n",
    "    \n",
    "    geo = Geo(\n",
    "        dict['address']['geo']['lat'] # lat\n",
    "        ,dict['address']['geo']['lng'] # lng\n",
    "    )\n",
    "\n",
    "    address = Address(\n",
    "        dict['address']['street'] \n",
    "        ,dict['address']['suite'] \n",
    "        ,dict['address']['city'] \n",
    "        ,dict['address']['zipcode'] \n",
    "        ,geo\n",
    "    ) \n",
    "    \n",
    "\n",
    "    company = Company(\n",
    "        dict['company']['name']\n",
    "        ,dict['company']['catch_phrase']\n",
    "        ,dict['company']['bs']\n",
    "        \n",
    "    )\n",
    "\n",
    "    user = User(\n",
    "        dict['_id']\n",
    "        ,dict['name']\n",
    "        ,dict['username']\n",
    "        ,dict['email']\n",
    "        ,address\n",
    "        ,dict['phone']\n",
    "        ,dict['website']\n",
    "        ,company\n",
    "    )\n",
    "    return user\n",
    "\n",
    "user_data = list(map(make_user,data))"
   ]
  },
  {
   "cell_type": "code",
   "execution_count": 6,
   "id": "27953445",
   "metadata": {},
   "outputs": [],
   "source": [
    "assert len(user_data) == 10\n",
    "assert set(map(lambda x: type(x), user_data)) == {User}"
   ]
  },
  {
   "cell_type": "markdown",
   "id": "097c066e",
   "metadata": {},
   "source": [
    "#### 2) Transformations (10pts)\n",
    "\n",
    "Now that you have a variable named `user_data` with all the respective `User` objects let's apply some additional transformations using Functional Programming principles, meaning, maps, flatmaps, filters & reduce to immutable data structures:\n",
    "\n",
    " 1) Get the name of the users\n",
    " 2) Get the company name of the users that their email ends in `.biz`\n",
    " 3) Get the phone number of the users with *odd* id"
   ]
  },
  {
   "cell_type": "code",
   "execution_count": 10,
   "id": "754ac893",
   "metadata": {},
   "outputs": [
    {
     "data": {
      "text/plain": [
       "[<__main__.User at 0x1103b6810>,\n",
       " <__main__.User at 0x110459c90>,\n",
       " <__main__.User at 0x110459910>,\n",
       " <__main__.User at 0x11045a2d0>,\n",
       " <__main__.User at 0x110458310>,\n",
       " <__main__.User at 0x110458910>,\n",
       " <__main__.User at 0x110458f10>,\n",
       " <__main__.User at 0x110458e90>,\n",
       " <__main__.User at 0x110459ad0>,\n",
       " <__main__.User at 0x110459690>]"
      ]
     },
     "execution_count": 10,
     "metadata": {},
     "output_type": "execute_result"
    }
   ],
   "source": [
    "list(map(lambda x: x, user_data))\n",
    "#list(map(function(x), x))\n",
    "#x could be a vector"
   ]
  },
  {
   "cell_type": "code",
   "execution_count": 15,
   "id": "18f1e1ea",
   "metadata": {},
   "outputs": [
    {
     "data": {
      "text/plain": [
       "['Leanne Graham',\n",
       " 'Ervin Howell',\n",
       " 'Clementine Bauch',\n",
       " 'Patricia Lebsack',\n",
       " 'Chelsey Dietrich',\n",
       " 'Mrs. Dennis Schulist',\n",
       " 'Kurtis Weissnat',\n",
       " 'Nicholas Runolfsdottir V',\n",
       " 'Glenna Reichert',\n",
       " 'Clementina DuBuque']"
      ]
     },
     "execution_count": 15,
     "metadata": {},
     "output_type": "execute_result"
    }
   ],
   "source": [
    "# Your code here\n",
    "list(map(lambda x: x.name, user_data))\n"
   ]
  },
  {
   "cell_type": "code",
   "execution_count": 16,
   "id": "c5d722d5",
   "metadata": {},
   "outputs": [
    {
     "data": {
      "text/plain": [
       "['Romaguera-Crona', 'Johns Group', 'Hoeger LLC']"
      ]
     },
     "execution_count": 16,
     "metadata": {},
     "output_type": "execute_result"
    }
   ],
   "source": [
    "# Your code here\n",
    "list(map(lambda x: x.company.name, filter(lambda x: \".biz\" in x.email, user_data)))"
   ]
  },
  {
   "cell_type": "code",
   "execution_count": 18,
   "id": "1ecedebd",
   "metadata": {},
   "outputs": [
    {
     "ename": "AttributeError",
     "evalue": "'User' object has no attribute 'x'",
     "output_type": "error",
     "traceback": [
      "\u001b[0;31m---------------------------------------------------------------------------\u001b[0m",
      "\u001b[0;31mAttributeError\u001b[0m                            Traceback (most recent call last)",
      "Cell \u001b[0;32mIn[18], line 2\u001b[0m\n\u001b[1;32m      1\u001b[0m \u001b[38;5;66;03m# Your code here\u001b[39;00m\n\u001b[0;32m----> 2\u001b[0m \u001b[38;5;28mlist\u001b[39m(\u001b[38;5;28mmap\u001b[39m(\u001b[38;5;28;01mlambda\u001b[39;00m x: x\u001b[38;5;241m.\u001b[39mx\u001b[38;5;241m.\u001b[39mphone, \u001b[38;5;28mfilter\u001b[39m(\u001b[38;5;28;01mlambda\u001b[39;00m x:x\u001b[38;5;241m.\u001b[39m_id \u001b[38;5;241m%\u001b[39m \u001b[38;5;241m2\u001b[39m \u001b[38;5;241m!=\u001b[39m \u001b[38;5;241m0\u001b[39m, user_data)))\n",
      "Cell \u001b[0;32mIn[18], line 2\u001b[0m, in \u001b[0;36m<lambda>\u001b[0;34m(x)\u001b[0m\n\u001b[1;32m      1\u001b[0m \u001b[38;5;66;03m# Your code here\u001b[39;00m\n\u001b[0;32m----> 2\u001b[0m \u001b[38;5;28mlist\u001b[39m(\u001b[38;5;28mmap\u001b[39m(\u001b[38;5;28;01mlambda\u001b[39;00m x: x\u001b[38;5;241m.\u001b[39mx\u001b[38;5;241m.\u001b[39mphone, \u001b[38;5;28mfilter\u001b[39m(\u001b[38;5;28;01mlambda\u001b[39;00m x:x\u001b[38;5;241m.\u001b[39m_id \u001b[38;5;241m%\u001b[39m \u001b[38;5;241m2\u001b[39m \u001b[38;5;241m!=\u001b[39m \u001b[38;5;241m0\u001b[39m, user_data)))\n",
      "\u001b[0;31mAttributeError\u001b[0m: 'User' object has no attribute 'x'"
     ]
    }
   ],
   "source": [
    "# Your code here\n",
    "list(map(lambda x: x.x.phone, filter(lambda x:x._id % 2 != 0, user_data)))"
   ]
  },
  {
   "cell_type": "markdown",
   "id": "68464014",
   "metadata": {},
   "source": [
    "#### 3) Fibonacci again... (10pts)\n",
    "\n",
    "Remember the last Fibonacci problem, those were good times, now instead of creating a function that returns the sequence we want to return the value $F_n$, but there is one catch, the function **must be recursive** (it means that it calls itself...).\n",
    "\n",
    "Define a function `nth_fibonacci(n: int) -> int` that returns $F_n$.\n",
    "\n",
    "```\n",
    "Input: 6\n",
    "\n",
    "Expected Output: 8\n",
    "```\n"
   ]
  },
  {
   "cell_type": "code",
   "execution_count": 52,
   "id": "c0835857",
   "metadata": {},
   "outputs": [],
   "source": [
    "# Your code here\n",
    "from typing import List\n",
    "\n",
    "\n",
    "def nth_fibonacci(n: int) -> int:\n",
    "    if n == 0:\n",
    "        return 0\n",
    "    if n == 1:\n",
    "        return 1\n",
    "    \n",
    "    return nth_fibonacci(n-1) + nth_fibonacci(n-2)\n",
    "    \n",
    "    \n",
    "    ..."
   ]
  },
  {
   "cell_type": "code",
   "execution_count": 53,
   "id": "b877e7e5",
   "metadata": {},
   "outputs": [
    {
     "name": "stdout",
     "output_type": "stream",
     "text": [
      "Tests passed!\n"
     ]
    }
   ],
   "source": [
    "# TEST CASES - DO NOT MODIFY, ONLY RUN.\n",
    "\n",
    "assert nth_fibonacci(0) == 0\n",
    "assert nth_fibonacci(1) == 1\n",
    "assert nth_fibonacci(10) == 55\n",
    "print(\"Tests passed!\")"
   ]
  },
  {
   "cell_type": "markdown",
   "id": "f1ab9ca5",
   "metadata": {},
   "source": [
    "### Bonus Points (20pts)\n"
   ]
  },
  {
   "cell_type": "markdown",
   "id": "50995ec1",
   "metadata": {},
   "source": [
    "#### 1) Flatten (10pts)\n",
    "For this exercise you will create a global `flatten` method. The method takes in any number of arguments and flattens them into a single array. If any of the arguments passed in are an array then the individual objects within the array will be flattened so that they exist at the same level as the other arguments. Any nested arrays, no matter how deep, should be flattened into the single array result.\n"
   ]
  },
  {
   "cell_type": "code",
   "execution_count": 50,
   "id": "f6708c54",
   "metadata": {},
   "outputs": [
    {
     "data": {
      "text/plain": [
       "[1, 2, 3, 4, 5, 6, 7]"
      ]
     },
     "execution_count": 50,
     "metadata": {},
     "output_type": "execute_result"
    }
   ],
   "source": [
    "# Your code here\n",
    "\n",
    "\n",
    "def flatten(*args):\n",
    "    \n",
    "    initialList = []\n",
    "\n",
    "    for i in args:\n",
    "        if isinstance(i,list) == True:\n",
    "           initialList.extend(flatten(*i))\n",
    "        else:\n",
    "            initialList.append(i)\n",
    "\n",
    "    return initialList\n",
    "\n",
    "\n",
    "\n",
    "\n",
    "    \n",
    "\n",
    "flatten(1, [2, 3], 4, 5, [6, [7]])"
   ]
  },
  {
   "cell_type": "code",
   "execution_count": 51,
   "id": "9d0b16b4",
   "metadata": {},
   "outputs": [
    {
     "name": "stdout",
     "output_type": "stream",
     "text": [
      "Tests passed!\n"
     ]
    }
   ],
   "source": [
    "# TEST CASES - DO NOT MODIFY, ONLY RUN.\n",
    "\n",
    "assert flatten(1, [2, 3], 4, 5, [6, [7]]) == [1, 2, 3, 4, 5, 6, 7]\n",
    "assert flatten('a', ['b', 2], 3, None, [[4], ['c']]) == ['a', 'b', 2, 3, None, 4, 'c']\n",
    "print(\"Tests passed!\")"
   ]
  },
  {
   "cell_type": "markdown",
   "id": "e4829edf",
   "metadata": {},
   "source": [
    "#### 2) Roman Numerals Encoder (10pts)\n",
    "\n",
    "Create a function taking a positive integer between 1 and 3999 (both included) as its parameter and returning a string containing the Roman Numeral representation of that integer.\n",
    "\n",
    "Modern Roman numerals are written by expressing each digit separately starting with the left most digit and skipping any digit with a value of zero. In Roman numerals 1990 is rendered: 1000=M, 900=CM, 90=XC; resulting in MCMXC. 2008 is written as 2000=MM, 8=VIII; or MMVIII. 1666 uses each Roman symbol in descending order: MDCLXVI.\n",
    "\n",
    "```\n",
    "Symbol    Value\n",
    "I          1\n",
    "V          5\n",
    "X          10\n",
    "L          50\n",
    "C          100\n",
    "D          500\n",
    "M          1,000\n",
    "```\n",
    "\n",
    "Remember that there can't be more than 3 identical symbols in a row.\n"
   ]
  },
  {
   "cell_type": "code",
   "execution_count": 2,
   "id": "147a2fe7",
   "metadata": {},
   "outputs": [],
   "source": [
    "# Your code here\n",
    "\n",
    "\n",
    "def roman_encoder(n):\n",
    "    \n",
    "    symbols = {\n",
    "        \"M\" : 1000,\n",
    "        \"CM\" : 900,\n",
    "        \"D\" : 500,\n",
    "        \"CD\" : 400,\n",
    "        \"C\" : 100,\n",
    "        \"XC\" : 90,\n",
    "        \"L\" : 50,\n",
    "        \"XL\" : 40,\n",
    "        \"X\" : 10,\n",
    "        \"IX\" : 9,\n",
    "        \"V\" : 5,\n",
    "        \"IV\" : 4,\n",
    "        \"I\" : 1\n",
    "    }\n",
    "    \n",
    "    return res\n",
    "    ..."
   ]
  },
  {
   "cell_type": "code",
   "execution_count": null,
   "id": "11dba28f",
   "metadata": {},
   "outputs": [],
   "source": [
    "# TEST CASES - DO NOT MODIFY, ONLY RUN.\n",
    "\n",
    "assert roman_encoder(1000) == 'M'\n",
    "assert roman_encoder(1945) == 'MCMXLV'\n",
    "assert roman_encoder(2023) == 'MMXXIII'\n",
    "print(\"Tests passed!\")"
   ]
  },
  {
   "cell_type": "code",
   "execution_count": null,
   "id": "a78543e8",
   "metadata": {},
   "outputs": [],
   "source": []
  }
 ],
 "metadata": {
  "kernelspec": {
   "display_name": "Python 3 (ipykernel)",
   "language": "python",
   "name": "python3"
  },
  "language_info": {
   "codemirror_mode": {
    "name": "ipython",
    "version": 3
   },
   "file_extension": ".py",
   "mimetype": "text/x-python",
   "name": "python",
   "nbconvert_exporter": "python",
   "pygments_lexer": "ipython3",
   "version": "3.11.4"
  }
 },
 "nbformat": 4,
 "nbformat_minor": 5
}
