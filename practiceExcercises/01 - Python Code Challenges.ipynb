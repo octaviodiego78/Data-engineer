{
 "cells": [
  {
   "cell_type": "markdown",
   "id": "a8b50d97",
   "metadata": {},
   "source": [
    "# Python Challenges\n",
    "\n",
    "\n",
    "### Instructions\n",
    "\n",
    "For each problem, read the description and complete the given function. Then, run the test cell to verify your soulution, it should print `Completed!`."
   ]
  },
  {
   "cell_type": "markdown",
   "id": "0899cb79",
   "metadata": {},
   "source": [
    "### 1) Multiply\n",
    "\n",
    "This code does not execute properly. Try to figure out why."
   ]
  },
  {
   "cell_type": "code",
   "execution_count": 1,
   "id": "e330ea9b",
   "metadata": {},
   "outputs": [],
   "source": [
    "def multiply(a, b):\n",
    "    # Your code goes here\n",
    "    return a * b"
   ]
  },
  {
   "cell_type": "markdown",
   "id": "2722890b",
   "metadata": {},
   "source": [
    "#### Test cases (do not touch)"
   ]
  },
  {
   "cell_type": "code",
   "execution_count": 2,
   "id": "13a228ef",
   "metadata": {},
   "outputs": [
    {
     "name": "stdout",
     "output_type": "stream",
     "text": [
      "Completed!\n"
     ]
    }
   ],
   "source": [
    "try:\n",
    "    assert multiply(1, 2) == 2\n",
    "    assert multiply(5, 0) == 0\n",
    "    assert multiply(0, 7) == 0\n",
    "    assert multiply(4, 7) == 28\n",
    "    print(\"Completed!\")\n",
    "except Exception as e:\n",
    "    print(\"Tests failed\")\n",
    "    raise e"
   ]
  },
  {
   "cell_type": "markdown",
   "id": "13e0a246",
   "metadata": {},
   "source": [
    "### 2) Highest and Lowest\n",
    "\n",
    "In this little assignment you are given a string of space separated numbers, and have to return the highest and lowest number.\n",
    "\n",
    "#### Examples\n",
    "\n",
    "```\n",
    "high_and_low(\"1 2 3 4 5\")  # return \"5 1\"\n",
    "high_and_low(\"1 2 -3 4 5\") # return \"5 -3\"\n",
    "high_and_low(\"1 9 3 4 -5\") # return \"9 -5\"\n",
    "```\n",
    "\n",
    "#### Notes\n",
    " - All numbers are valid ints, no need to validate them.\n",
    " - There will always be at least one number in the input string.\n",
    " - Output string must be two numbers separated by a single space, and highest number is first."
   ]
  },
  {
   "cell_type": "code",
   "execution_count": 15,
   "id": "6f225530",
   "metadata": {},
   "outputs": [],
   "source": [
    "#Not recursive\n",
    "def high_and_low(numbers):\n",
    "    list_ = [ int(i) for i in numbers.split()]\n",
    "\n",
    "    min = None\n",
    "    max = None\n",
    "\n",
    "    for i in list_:\n",
    "        if min == None or i < min:\n",
    "            min = i\n",
    "\n",
    "        if max == None or i > max:\n",
    "            max = i\n",
    "\n",
    "\n",
    "    return f\"{max} {min}\"\n",
    "\n"
   ]
  },
  {
   "cell_type": "code",
   "execution_count": 68,
   "id": "733ef4d3",
   "metadata": {},
   "outputs": [],
   "source": [
    "def high_and_low(str,max=-1_000_000,min=1_000_000):\n",
    "    print(\"str:\", str)\n",
    "\n",
    "    if str == \"\":\n",
    "        return f\"holaaa {max} {min}\"\n",
    "\n",
    "    element = str[0]\n",
    "    remainingList = str[1:]\n",
    "\n",
    "    if element == \"-\":\n",
    "        element = str[1]*-1\n",
    "        return high_and_low(str[2:],max,min)\n",
    "    \n",
    "    if element == \" \":\n",
    "        return high_and_low(str[1:],max,min)\n",
    "\n",
    "    element = int(element)\n",
    "\n",
    "    if element < min:\n",
    "        min = element\n",
    "\n",
    "    if element > max:\n",
    "        max = element\n",
    "\n",
    "    return high_and_low(str[1:],max,min)\n",
    "\n",
    "    "
   ]
  },
  {
   "cell_type": "code",
   "execution_count": 69,
   "id": "cdbdbcc1",
   "metadata": {},
   "outputs": [
    {
     "name": "stdout",
     "output_type": "stream",
     "text": [
      "str: 8 3 -5 42 -1 0 0 -9 4 7 4 -4\n",
      "Element: 8\n",
      "Remaining:  3 -5 42 -1 0 0 -9 4 7 4 -4\n",
      "Max: 8\n",
      "Min: 8\n",
      "\n",
      "str:  3 -5 42 -1 0 0 -9 4 7 4 -4\n",
      "Element:  \n",
      "Remaining: 3 -5 42 -1 0 0 -9 4 7 4 -4\n",
      "str: 3 -5 42 -1 0 0 -9 4 7 4 -4\n",
      "Element: 3\n",
      "Remaining:  -5 42 -1 0 0 -9 4 7 4 -4\n",
      "Max: 8\n",
      "Min: 3\n",
      "\n",
      "str:  -5 42 -1 0 0 -9 4 7 4 -4\n",
      "Element:  \n",
      "Remaining: -5 42 -1 0 0 -9 4 7 4 -4\n",
      "str: -5 42 -1 0 0 -9 4 7 4 -4\n",
      "Element: -\n",
      "Remaining: 5 42 -1 0 0 -9 4 7 4 -4\n",
      "str:  42 -1 0 0 -9 4 7 4 -4\n",
      "Element:  \n",
      "Remaining: 42 -1 0 0 -9 4 7 4 -4\n",
      "str: 42 -1 0 0 -9 4 7 4 -4\n",
      "Element: 4\n",
      "Remaining: 2 -1 0 0 -9 4 7 4 -4\n",
      "Max: 8\n",
      "Min: 3\n",
      "\n",
      "str: 2 -1 0 0 -9 4 7 4 -4\n",
      "Element: 2\n",
      "Remaining:  -1 0 0 -9 4 7 4 -4\n",
      "Max: 8\n",
      "Min: 2\n",
      "\n",
      "str:  -1 0 0 -9 4 7 4 -4\n",
      "Element:  \n",
      "Remaining: -1 0 0 -9 4 7 4 -4\n",
      "str: -1 0 0 -9 4 7 4 -4\n",
      "Element: -\n",
      "Remaining: 1 0 0 -9 4 7 4 -4\n",
      "str:  0 0 -9 4 7 4 -4\n",
      "Element:  \n",
      "Remaining: 0 0 -9 4 7 4 -4\n",
      "str: 0 0 -9 4 7 4 -4\n",
      "Element: 0\n",
      "Remaining:  0 -9 4 7 4 -4\n",
      "Max: 8\n",
      "Min: 0\n",
      "\n",
      "str:  0 -9 4 7 4 -4\n",
      "Element:  \n",
      "Remaining: 0 -9 4 7 4 -4\n",
      "str: 0 -9 4 7 4 -4\n",
      "Element: 0\n",
      "Remaining:  -9 4 7 4 -4\n",
      "Max: 8\n",
      "Min: 0\n",
      "\n",
      "str:  -9 4 7 4 -4\n",
      "Element:  \n",
      "Remaining: -9 4 7 4 -4\n",
      "str: -9 4 7 4 -4\n",
      "Element: -\n",
      "Remaining: 9 4 7 4 -4\n",
      "str:  4 7 4 -4\n",
      "Element:  \n",
      "Remaining: 4 7 4 -4\n",
      "str: 4 7 4 -4\n",
      "Element: 4\n",
      "Remaining:  7 4 -4\n",
      "Max: 8\n",
      "Min: 0\n",
      "\n",
      "str:  7 4 -4\n",
      "Element:  \n",
      "Remaining: 7 4 -4\n",
      "str: 7 4 -4\n",
      "Element: 7\n",
      "Remaining:  4 -4\n",
      "Max: 8\n",
      "Min: 0\n",
      "\n",
      "str:  4 -4\n",
      "Element:  \n",
      "Remaining: 4 -4\n",
      "str: 4 -4\n",
      "Element: 4\n",
      "Remaining:  -4\n",
      "Max: 8\n",
      "Min: 0\n",
      "\n",
      "str:  -4\n",
      "Element:  \n",
      "Remaining: -4\n",
      "str: -4\n",
      "Element: -\n",
      "Remaining: 4\n",
      "str: \n"
     ]
    },
    {
     "data": {
      "text/plain": [
       "'holaaa 8 0'"
      ]
     },
     "execution_count": 69,
     "metadata": {},
     "output_type": "execute_result"
    }
   ],
   "source": [
    "high_and_low(\"8 3 -5 42 -1 0 0 -9 4 7 4 -4\")"
   ]
  },
  {
   "cell_type": "markdown",
   "id": "f3cae82f",
   "metadata": {},
   "source": [
    "#### Test cases (do not touch)"
   ]
  },
  {
   "cell_type": "code",
   "execution_count": 17,
   "id": "c92e0c8e",
   "metadata": {},
   "outputs": [
    {
     "name": "stdout",
     "output_type": "stream",
     "text": [
      "Completed!\n"
     ]
    }
   ],
   "source": [
    "try:\n",
    "    assert high_and_low(\"8 3 -5 42 -1 0 0 -9 4 7 4 -4\") == \"42 -9\"\n",
    "    assert high_and_low(\"1 2 3\") == \"3 1\"\n",
    "    assert high_and_low(\"1\") == \"1 1\"\n",
    "    assert high_and_low(\"5 5 5 5\") == \"5 5\"\n",
    "    print(\"Completed!\")\n",
    "except Exception as e:\n",
    "    print(\"Tests failed\")\n",
    "    raise e"
   ]
  },
  {
   "cell_type": "markdown",
   "id": "140abc55",
   "metadata": {},
   "source": [
    "### 3) Find the next perfect square\n",
    "\n",
    "You might know some pretty large perfect squares. But what about the NEXT one?\n",
    "\n",
    "Complete the `find_next_square` method that finds the next integral perfect square after the one passed as a parameter. Recall that an integral perfect square is an integer n such that sqrt(n) is also an integer.\n",
    "\n",
    "If the parameter is itself not a perfect square then -1 should be returned. You may assume the parameter is non-negative.\n",
    "\n",
    "#### Examples:(Input --> Output)\n",
    "```\n",
    "121 --> 144\n",
    "625 --> 676\n",
    "114 --> -1 since 114 is not a perfect square\n",
    "```\n"
   ]
  },
  {
   "cell_type": "code",
   "execution_count": null,
   "id": "e64a6307",
   "metadata": {},
   "outputs": [],
   "source": [
    "def find_next_square(x):\n",
    "    # Your code goes here\n",
    "    ..."
   ]
  },
  {
   "cell_type": "markdown",
   "id": "14e8095f",
   "metadata": {},
   "source": [
    "#### Test cases (do not touch)"
   ]
  },
  {
   "cell_type": "code",
   "execution_count": null,
   "id": "4bd08342",
   "metadata": {},
   "outputs": [],
   "source": [
    "try:\n",
    "    assert find_next_square(121) == 144\n",
    "    assert find_next_square(625) == 676\n",
    "    assert find_next_square(319225) == 320356\n",
    "    assert find_next_square(15241383936) == 15241630849\n",
    "    assert find_next_square(155) == -1\n",
    "    assert find_next_square(342786627) == -1\n",
    "    print(\"Completed!\")\n",
    "except Exception as e:\n",
    "    print(\"Tests failed\")\n",
    "    raise e"
   ]
  },
  {
   "cell_type": "markdown",
   "id": "7fe1dbc4",
   "metadata": {},
   "source": [
    "### 4) Power of two\n",
    "Complete the function `power_of_two` that determines if a given non-negative integer is a power of two. From the corresponding Wikipedia entry:\n",
    "\n",
    ">a power of two is a number of the form 2n where n is an integer, i.e. the result of exponentiation with number two as the base and integer n as the exponent.\n",
    "\n",
    "You may assume the input is always valid.\n",
    "\n",
    "#### Examples\n",
    "```\n",
    "power_of_two(1024) ==> True\n",
    "power_of_two(4096) ==> True\n",
    "power_of_two(333)  ==> False\n",
    "```\n",
    "\n",
    "Beware of certain edge cases - for example, 1 is a power of 2 since 2^0 = 1 and 0 is not a power of 2.\n"
   ]
  },
  {
   "cell_type": "code",
   "execution_count": null,
   "id": "7ebc73f6",
   "metadata": {},
   "outputs": [],
   "source": [
    "def power_of_two(x):\n",
    "    # Your code goes here\n",
    "    ..."
   ]
  },
  {
   "cell_type": "code",
   "execution_count": null,
   "id": "85a61ae4",
   "metadata": {},
   "outputs": [],
   "source": [
    "try:\n",
    "    assert power_of_two(0) == False\n",
    "    assert power_of_two(1) == True\n",
    "    assert power_of_two(2) == True\n",
    "    assert power_of_two(5) == False\n",
    "    assert power_of_two(6) == False\n",
    "    assert power_of_two(4096) == True\n",
    "    print(\"Completed!\")\n",
    "except Exception as e:\n",
    "    print(\"Tests failed\")\n",
    "    raise e"
   ]
  },
  {
   "cell_type": "markdown",
   "id": "095a1faf",
   "metadata": {},
   "source": [
    "### 5) Ones and zeroes\n",
    "\n",
    "Given an array of ones and zeroes, convert the equivalent binary value to an integer.\n",
    "\n",
    "Eg: `[0, 0, 0, 1]` is treated as `0001` which is the binary representation of `1`.\n",
    "\n",
    "#### Examples\n",
    "```\n",
    "Testing: [0, 0, 0, 1] ==> 1\n",
    "Testing: [0, 0, 1, 0] ==> 2\n",
    "Testing: [0, 1, 0, 1] ==> 5\n",
    "Testing: [1, 0, 0, 1] ==> 9\n",
    "Testing: [0, 0, 1, 0] ==> 2\n",
    "Testing: [0, 1, 1, 0] ==> 6\n",
    "Testing: [1, 1, 1, 1] ==> 15\n",
    "Testing: [1, 0, 1, 1] ==> 11\n",
    "```\n",
    "\n",
    "However, the arrays can have varying lengths, not just limited to 4.\n"
   ]
  },
  {
   "cell_type": "code",
   "execution_count": null,
   "id": "7bd4e81f",
   "metadata": {},
   "outputs": [],
   "source": [
    "def binary_array_to_number(arr):\n",
    "    # Your code here\n",
    "    ..."
   ]
  },
  {
   "cell_type": "code",
   "execution_count": null,
   "id": "329c8957",
   "metadata": {},
   "outputs": [],
   "source": [
    "try:\n",
    "    assert binary_array_to_number([0, 0, 0, 1]) == 1\n",
    "    assert binary_array_to_number([0, 0, 1, 0]) == 2\n",
    "    assert binary_array_to_number([1, 1, 1, 1]) == 15\n",
    "    assert binary_array_to_number([0, 1, 1, 0]) == 6\n",
    "    assert binary_array_to_number([1, 1, 0, 1, 0, 1, 1, 0]) == 214\n",
    "    assert binary_array_to_number([1, 0, 0, 0, 1, 1, 0]) == 70\n",
    "    assert binary_array_to_number([1, 0, 0, 0, 0, 0, 0, 0, 0, 0, 0]) == 1024\n",
    "    print(\"Completed!\")\n",
    "except Exception as e:\n",
    "    print(\"Tests failed\")\n",
    "    raise e"
   ]
  },
  {
   "cell_type": "code",
   "execution_count": null,
   "id": "432d3cc6",
   "metadata": {},
   "outputs": [],
   "source": []
  }
 ],
 "metadata": {
  "kernelspec": {
   "display_name": "Python 3 (ipykernel)",
   "language": "python",
   "name": "python3"
  },
  "language_info": {
   "codemirror_mode": {
    "name": "ipython",
    "version": 3
   },
   "file_extension": ".py",
   "mimetype": "text/x-python",
   "name": "python",
   "nbconvert_exporter": "python",
   "pygments_lexer": "ipython3",
   "version": "3.11.4"
  }
 },
 "nbformat": 4,
 "nbformat_minor": 5
}
